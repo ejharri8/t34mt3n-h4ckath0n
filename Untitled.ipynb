{
 "cells": [
  {
   "cell_type": "code",
   "execution_count": 1,
   "metadata": {},
   "outputs": [
    {
     "name": "stdout",
     "output_type": "stream",
     "text": [
      "download: s3://asu-fox-hackathon-testing/10030.tar to data/10030.tar.gz\n"
     ]
    }
   ],
   "source": [
    "!aws s3 cp s3://asu-fox-hackathon-testing/10030.tar data/10030.tar.gz"
   ]
  },
  {
   "cell_type": "code",
   "execution_count": 2,
   "metadata": {},
   "outputs": [
    {
     "name": "stdout",
     "output_type": "stream",
     "text": [
      "download: s3://asu-fox-hackathon-testing/10028.tar to data/10028.tar\n"
     ]
    }
   ],
   "source": [
    "!aws s3 cp s3://asu-fox-hackathon-testing/10028.tar data/10028.tar"
   ]
  },
  {
   "cell_type": "code",
   "execution_count": 5,
   "metadata": {},
   "outputs": [
    {
     "name": "stdout",
     "output_type": "stream",
     "text": [
      "Completed 256.0 KiB/1.2 MiB (4.2 MiB/s) with 1 file(s) remaining\r",
      "Completed 512.0 KiB/1.2 MiB (8.1 MiB/s) with 1 file(s) remaining\r",
      "Completed 768.0 KiB/1.2 MiB (11.9 MiB/s) with 1 file(s) remaining\r",
      "Completed 1.0 MiB/1.2 MiB (15.5 MiB/s) with 1 file(s) remaining  \r",
      "Completed 1.2 MiB/1.2 MiB (18.9 MiB/s) with 1 file(s) remaining  \r",
      "download: s3://asu-fox-hackathon-testing/dunk_layup_test_data.csv to ./dunk_layup_test_data.csv\r\n"
     ]
    }
   ],
   "source": [
    "!aws s3 cp s3://asu-fox-hackathon-testing/dunk_layup_test_data.csv dunk_layup_test_data.csv"
   ]
  },
  {
   "cell_type": "code",
   "execution_count": null,
   "metadata": {},
   "outputs": [],
   "source": []
  }
 ],
 "metadata": {
  "kernelspec": {
   "display_name": "conda_python3",
   "language": "python",
   "name": "conda_python3"
  },
  "language_info": {
   "codemirror_mode": {
    "name": "ipython",
    "version": 3
   },
   "file_extension": ".py",
   "mimetype": "text/x-python",
   "name": "python",
   "nbconvert_exporter": "python",
   "pygments_lexer": "ipython3",
   "version": "3.6.5"
  }
 },
 "nbformat": 4,
 "nbformat_minor": 2
}
