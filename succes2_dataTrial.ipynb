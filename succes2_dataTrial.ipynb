{
 "cells": [
  {
   "cell_type": "code",
   "execution_count": null,
   "metadata": {},
   "outputs": [],
   "source": []
  },
  {
   "cell_type": "code",
   "execution_count": 90,
   "metadata": {},
   "outputs": [
    {
     "name": "stdout",
     "output_type": "stream",
     "text": [
      "Found 30000 validated image filenames.\n",
      "Found 20000 validated image filenames.\n"
     ]
    }
   ],
   "source": [
    "#import statements\n",
    "import keras\n",
    "from keras.models import Sequential\n",
    "from keras.layers import Dense, Conv2D, Activation,MaxPooling2D,Dropout,Flatten\n",
    "from keras.models import model_from_json\n",
    "from keras.preprocessing.image import ImageDataGenerator\n",
    "import numpy as np\n",
    "import pandas as pd\n",
    "from keras import optimizers\n",
    "from sklearn.ensemble import RandomForestRegressor\n",
    "import os\n",
    "\n",
    "#df is data from csv file\n",
    "filename_train_csv = \"data/train_free_throws.csv\"\n",
    "df=pd.read_csv(filename_train_csv, header = None)\n",
    "\n",
    "#change this csv for testing\n",
    "filename_test_csv = \"data/test_free_throws.csv\"\n",
    "mainDF=pd.read_csv(filename_test_csv, header = None)\n",
    "datagen=ImageDataGenerator() #rescale=1./255)\n",
    "\n",
    "\n",
    "df.columns = ['0','1']\n",
    "mainDF.columns = ['0','1']\n",
    "\n",
    "\n",
    "# main generator is the one for test data\n",
    "main_generator=datagen.flow_from_dataframe(dataframe=mainDF, directory=\"data/\", x_col=\"0\",\n",
    "                                           y_col=\"1\", class_mode=\"raw\", target_size=(320,180), batch_size=32)\n",
    "\n",
    "valid_generator=datagen.flow_from_dataframe(dataframe=df, directory=\"data/\", x_col=\"0\",\n",
    "                                           y_col=\"1\", class_mode=\"raw\", target_size=(320,180), batch_size=32)"
   ]
  },
  {
   "cell_type": "code",
   "execution_count": 92,
   "metadata": {},
   "outputs": [],
   "source": [
    "model_kernel_size = (3,3)\n",
    "input_shape=(320,180,3)\n",
    "num_classes = 2  # True of False classification\n",
    "\n",
    "model = Sequential()\n",
    "model.add(Conv2D(6, kernel_size=model_kernel_size, activation='relu', input_shape= input_shape))\n",
    "model.add(MaxPooling2D(pool_size=(2, 2)))\n",
    "model.add(Conv2D(16, kernel_size= model_kernel_size, activation='relu'))\n",
    "model.add(MaxPooling2D(pool_size=(2, 2)))\n",
    "model.add(Flatten())\n",
    "model.add(Dense(120, activation='relu'))\n",
    "model.add(Dense(84, activation='relu'))\n",
    "\n",
    "model.add(Dense(num_classes, activation='softmax'))"
   ]
  },
  {
   "cell_type": "code",
   "execution_count": 93,
   "metadata": {},
   "outputs": [
    {
     "name": "stdout",
     "output_type": "stream",
     "text": [
      "Epoch 1/1\n",
      "937/937 [==============================] - 76s 81ms/step - loss: 2.1027 - acc: 0.8695 - val_loss: 1.3346 - val_acc: 0.9172\n",
      "('test accuracy: ', [0.8694970651013874])\n"
     ]
    }
   ],
   "source": [
    "#model.compile(optimizers.rmsprop(lr=0.0001),loss=\"categorical_crossentropy\", metrics=[\"accuracy\"])\n",
    "model.compile(optimizers.rmsprop(lr=0.0001),loss=\"sparse_categorical_crossentropy\", metrics=[\"accuracy\"])\n",
    "\n",
    "STEP_SIZE_TRAIN = main_generator.n//main_generator.batch_size\n",
    "STEP_SIZE_VALID = valid_generator.n//valid_generator.batch_size\n",
    "hist = model.fit_generator(generator=main_generator,\n",
    "                    steps_per_epoch=STEP_SIZE_TRAIN,\n",
    "                    validation_data=valid_generator,\n",
    "                    validation_steps=STEP_SIZE_VALID,\n",
    "                    epochs=1)\n",
    "\n",
    "#score = model.evalutate(x_test,y_test, verbose = 0)\n",
    "\n",
    "# training values\n",
    "acc = hist.history['acc']\n",
    "loss_ = hist.history['loss']\n",
    "\n",
    "print(\"test accuracy: \" , acc)"
   ]
  },
  {
   "cell_type": "code",
   "execution_count": 6,
   "metadata": {},
   "outputs": [
    {
     "ename": "NameError",
     "evalue": "name 'i_rgb_ht' is not defined",
     "output_type": "error",
     "traceback": [
      "\u001b[0;31m---------------------------------------------------------------------------\u001b[0m",
      "\u001b[0;31mNameError\u001b[0m                                 Traceback (most recent call last)",
      "\u001b[0;32m<ipython-input-6-e1805ee9dc2a>\u001b[0m in \u001b[0;36m<module>\u001b[0;34m()\u001b[0m\n\u001b[1;32m      1\u001b[0m \u001b[0;32mwith\u001b[0m \u001b[0mopen\u001b[0m\u001b[0;34m(\u001b[0m\u001b[0;34m\"neuraltest.csv\"\u001b[0m\u001b[0;34m,\u001b[0m\u001b[0;34m'w'\u001b[0m\u001b[0;34m)\u001b[0m \u001b[0;32mas\u001b[0m \u001b[0mcsv\u001b[0m\u001b[0;34m:\u001b[0m\u001b[0;34m\u001b[0m\u001b[0m\n\u001b[0;32m----> 2\u001b[0;31m     \u001b[0;32mfor\u001b[0m \u001b[0mrow\u001b[0m \u001b[0;32min\u001b[0m \u001b[0mrange\u001b[0m\u001b[0;34m(\u001b[0m\u001b[0;36m0\u001b[0m\u001b[0;34m,\u001b[0m \u001b[0mi_rgb_ht\u001b[0m\u001b[0;34m)\u001b[0m\u001b[0;34m:\u001b[0m\u001b[0;34m\u001b[0m\u001b[0m\n\u001b[0m\u001b[1;32m      3\u001b[0m         \u001b[0;32mfor\u001b[0m \u001b[0mcol\u001b[0m \u001b[0;32min\u001b[0m \u001b[0mrange\u001b[0m\u001b[0;34m(\u001b[0m\u001b[0;36m0\u001b[0m\u001b[0;34m,\u001b[0m \u001b[0mi_rgb_wd\u001b[0m\u001b[0;34m)\u001b[0m\u001b[0;34m:\u001b[0m\u001b[0;34m\u001b[0m\u001b[0m\n\u001b[1;32m      4\u001b[0m             \u001b[0mr\u001b[0m\u001b[0;34m,\u001b[0m \u001b[0mg\u001b[0m\u001b[0;34m,\u001b[0m \u001b[0mb\u001b[0m \u001b[0;34m=\u001b[0m \u001b[0mi_rgb\u001b[0m\u001b[0;34m.\u001b[0m\u001b[0mgetpixel\u001b[0m\u001b[0;34m(\u001b[0m\u001b[0;34m(\u001b[0m\u001b[0mcol\u001b[0m\u001b[0;34m,\u001b[0m \u001b[0mrow\u001b[0m\u001b[0;34m)\u001b[0m\u001b[0;34m)\u001b[0m\u001b[0;34m\u001b[0m\u001b[0m\n\u001b[1;32m      5\u001b[0m             \u001b[0mcsv\u001b[0m\u001b[0;34m.\u001b[0m\u001b[0mwrite\u001b[0m\u001b[0;34m(\u001b[0m\u001b[0;34mf'{row},{col},{r},{g},{b}\\n'\u001b[0m\u001b[0;34m)\u001b[0m \u001b[0;31m## write a raw pixel value\u001b[0m\u001b[0;34m\u001b[0m\u001b[0m\n",
      "\u001b[0;31mNameError\u001b[0m: name 'i_rgb_ht' is not defined"
     ]
    }
   ],
   "source": []
  },
  {
   "cell_type": "code",
   "execution_count": 68,
   "metadata": {},
   "outputs": [
    {
     "data": {
      "text/plain": [
       "((30000, 2), (20000, 2))"
      ]
     },
     "execution_count": 68,
     "metadata": {},
     "output_type": "execute_result"
    }
   ],
   "source": [
    "filename_train_csv = \"data/free_throw_training_data.csv\"\n",
    "df=pd.read_csv(filename_train_csv, header = None)\n",
    "\n",
    "cut = 30000\n",
    "cut_end = cut + 20000\n",
    "df1 = df.iloc[:cut, :]\n",
    "df2 = df.iloc[cut:cut_end, :]\n",
    "df1.shape, df2.shape\n",
    "\n",
    "df1.to_csv(\"data/test_free_throws.csv\", header= None, index=False)\n",
    "df2.to_csv(\"data/train_free_throws.csv\", header= None, index=False)\n",
    "\n",
    "df1.shape, df2.shape"
   ]
  },
  {
   "cell_type": "code",
   "execution_count": 94,
   "metadata": {},
   "outputs": [
    {
     "name": "stdout",
     "output_type": "stream",
     "text": [
      "Saved model to disk\n"
     ]
    }
   ],
   "source": [
    "# serialize model to JSON\n",
    "model_json = model.to_json()\n",
    "with open(\"model.json\", \"w\") as json_file:\n",
    "    json_file.write(model_json)\n",
    "# serialize weights to HDF5\n",
    "model.save_weights(\"model.h5\")\n",
    "print(\"Saved model to disk\")"
   ]
  },
  {
   "cell_type": "code",
   "execution_count": null,
   "metadata": {},
   "outputs": [],
   "source": []
  },
  {
   "cell_type": "code",
   "execution_count": 100,
   "metadata": {},
   "outputs": [
    {
     "name": "stdout",
     "output_type": "stream",
     "text": [
      "Found 30000 validated image filenames.\n",
      "\n",
      " answer:\n",
      "\n",
      "('Test loss:', 2.1023836470464503)\n",
      "('Test accuracy:', 0.8695637673425827)\n",
      "\n",
      "\n"
     ]
    }
   ],
   "source": [
    "from keras.models import model_from_json\n",
    "#def inference(csv_file):\n",
    "csv_file = 'data/test_free_throws.csv'\n",
    "#load json and create model\n",
    "json_file = open('model.json', 'r')\n",
    "loaded_model_json = json_file.read()\n",
    "json_file.close()\n",
    "loaded_model = model_from_json(loaded_model_json)\n",
    "#load weights into new model\n",
    "loaded_model.load_weights(\"model.h5\")\n",
    "#... read csv file\n",
    "# df is data from csv file\n",
    "filename = csv_file\n",
    "df=pd.read_csv(filename, header = None)\n",
    "df.columns = ['0','1']\n",
    "valid_generator = datagen.flow_from_dataframe(dataframe=df, directory=\"data/\", x_col=\"0\",y_col=\"1\",\n",
    "                                            class_mode=\"raw\", target_size=(320,180), batch_size=32)\n",
    "\n",
    "#... use the model to do inference\n",
    "STEP_SIZE_VALID = valid_generator.n//valid_generator.batch_size\n",
    "score = model.evaluate_generator(generator = valid_generator, steps = STEP_SIZE_VALID,\n",
    "                                 use_multiprocessing = False, verbose = 0 )\n",
    "\n",
    "print('\\n answer:\\n')\n",
    "print('Test loss:', score[0] )\n",
    "print('Test accuracy:', score[1] )\n",
    "print('\\n')\n",
    "\n",
    "#... compute accuracy,recall and precision score using 0.5 threshold\n",
    "#return {'accuracy':accuracy, 'recall':recall, 'precision':precision}"
   ]
  },
  {
   "cell_type": "code",
   "execution_count": null,
   "metadata": {},
   "outputs": [],
   "source": []
  }
 ],
 "metadata": {
  "kernelspec": {
   "display_name": "conda_python3",
   "language": "python",
   "name": "conda_python3"
  },
  "language_info": {
   "codemirror_mode": {
    "name": "ipython",
    "version": 3
   },
   "file_extension": ".py",
   "mimetype": "text/x-python",
   "name": "python",
   "nbconvert_exporter": "python",
   "pygments_lexer": "ipython3",
   "version": "3.6.5"
  }
 },
 "nbformat": 4,
 "nbformat_minor": 4
}
