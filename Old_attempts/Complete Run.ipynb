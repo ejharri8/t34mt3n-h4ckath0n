{
 "cells": [
  {
   "cell_type": "code",
   "execution_count": 1,
   "metadata": {},
   "outputs": [
    {
     "name": "stdout",
     "output_type": "stream",
     "text": [
      "2019-10-21 21:53:23          0 \r\n",
      "2019-10-26 17:24:02          0 test.txt\r\n"
     ]
    }
   ],
   "source": [
    "!aws s3 ls s3://asu-fox-hackathon/team10/"
   ]
  },
  {
   "cell_type": "code",
   "execution_count": 2,
   "metadata": {},
   "outputs": [
    {
     "name": "stdout",
     "output_type": "stream",
     "text": [
      "upload: ./test.txt to s3://asu-fox-hackathon/team10/test.txt\r\n"
     ]
    }
   ],
   "source": [
    "!touch test.txt; aws s3 cp test.txt s3://asu-fox-hackathon/team10/"
   ]
  },
  {
   "cell_type": "code",
   "execution_count": 3,
   "metadata": {},
   "outputs": [
    {
     "name": "stdout",
     "output_type": "stream",
     "text": [
      "2019-10-21 21:53:23          0 \r\n",
      "2019-10-26 17:46:18          0 test.txt\r\n"
     ]
    }
   ],
   "source": [
    "!aws s3 ls s3://asu-fox-hackathon/team10/"
   ]
  },
  {
   "cell_type": "code",
   "execution_count": 4,
   "metadata": {},
   "outputs": [],
   "source": [
    "!mkdir -p data"
   ]
  },
  {
   "cell_type": "code",
   "execution_count": null,
   "metadata": {},
   "outputs": [],
   "source": [
    "!aws s3 cp --recursive --quiet s3://asu-fox-hackathon-training/10031 data/10031"
   ]
  },
  {
   "cell_type": "code",
   "execution_count": null,
   "metadata": {},
   "outputs": [],
   "source": [
    "!aws s3 cp --recursive --quiet s3://asu-fox-hackathon-training/10032 data/10032"
   ]
  },
  {
   "cell_type": "code",
   "execution_count": null,
   "metadata": {},
   "outputs": [],
   "source": [
    "!aws s3 cp --recursive --quiet s3://asu-fox-hackathon-training/10033 data/10033"
   ]
  },
  {
   "cell_type": "code",
   "execution_count": null,
   "metadata": {},
   "outputs": [],
   "source": [
    "!aws s3 cp --recursive --quiet s3://asu-fox-hackathon-training/10034 data/10034"
   ]
  },
  {
   "cell_type": "code",
   "execution_count": 10,
   "metadata": {},
   "outputs": [],
   "source": [
    "!aws s3 cp --quiet s3://asu-fox-hackathon-training/cross_half_court_training_data.csv data/cross_half_court_training_data.csv"
   ]
  },
  {
   "cell_type": "code",
   "execution_count": 11,
   "metadata": {},
   "outputs": [],
   "source": [
    "!aws s3 cp --quiet s3://asu-fox-hackathon-training/crowd_training_data.csv data/crowd_training_data.csv"
   ]
  },
  {
   "cell_type": "code",
   "execution_count": 12,
   "metadata": {},
   "outputs": [],
   "source": [
    "!aws s3 cp --quiet s3://asu-fox-hackathon-training/dunk_layup_training_data.csv data/dunk_layup_training_data.csv"
   ]
  },
  {
   "cell_type": "code",
   "execution_count": 13,
   "metadata": {},
   "outputs": [],
   "source": [
    "!aws s3 cp --quiet s3://asu-fox-hackathon-training/free_throw_training_data.csv data/free_throw_training_data.csv"
   ]
  },
  {
   "cell_type": "code",
   "execution_count": 14,
   "metadata": {},
   "outputs": [],
   "source": [
    "!aws s3 cp --quiet s3://asu-fox-hackathon-training/injury_training_data.csv data/injury_training_data.csv"
   ]
  },
  {
   "cell_type": "code",
   "execution_count": 15,
   "metadata": {},
   "outputs": [],
   "source": [
    "!aws s3 cp --quiet s3://asu-fox-hackathon-training/isolation_training_data.csv data/isolation_training_data.csv"
   ]
  },
  {
   "cell_type": "code",
   "execution_count": 16,
   "metadata": {},
   "outputs": [],
   "source": [
    "!aws s3 cp --quiet s3://asu-fox-hackathon-training/jumpball_training_data.csv data/jumpball_training_data.csv"
   ]
  },
  {
   "cell_type": "code",
   "execution_count": 17,
   "metadata": {},
   "outputs": [],
   "source": [
    "!aws s3 cp --quiet s3://asu-fox-hackathon-training/jumpshot_training_data.csv data/jumpshot_training_data.csv"
   ]
  },
  {
   "cell_type": "code",
   "execution_count": 18,
   "metadata": {},
   "outputs": [],
   "source": [
    "!aws s3 cp --quiet s3://asu-fox-hackathon-training/replay_training_data.csv data/replay_training_data.csv"
   ]
  },
  {
   "cell_type": "code",
   "execution_count": 19,
   "metadata": {},
   "outputs": [],
   "source": [
    "!aws s3 cp --quiet s3://asu-fox-hackathon-training/sideline_training_data.csv data/sideline_training_data.csv"
   ]
  },
  {
   "cell_type": "code",
   "execution_count": 20,
   "metadata": {},
   "outputs": [],
   "source": [
    "!aws s3 cp --quiet s3://asu-fox-hackathon-training/three_point_training_data.csv data/three_point_training_data.csv"
   ]
  },
  {
   "cell_type": "code",
   "execution_count": 21,
   "metadata": {},
   "outputs": [
    {
     "ename": "SyntaxError",
     "evalue": "invalid syntax (<ipython-input-21-45a84b22b143>, line 1)",
     "output_type": "error",
     "traceback": [
      "\u001b[0;36m  File \u001b[0;32m\"<ipython-input-21-45a84b22b143>\"\u001b[0;36m, line \u001b[0;32m1\u001b[0m\n\u001b[0;31m    aws s3 cp s3://asu-fox-hackathon-training/10031.tar.gz data/10031.tar.gz\u001b[0m\n\u001b[0m         ^\u001b[0m\n\u001b[0;31mSyntaxError\u001b[0m\u001b[0;31m:\u001b[0m invalid syntax\n"
     ]
    }
   ],
   "source": [
    "aws s3 cp s3://asu-fox-hackathon-training/10031.tar.gz data/10031.tar.gz"
   ]
  },
  {
   "cell_type": "code",
   "execution_count": 22,
   "metadata": {},
   "outputs": [
    {
     "name": "stdout",
     "output_type": "stream",
     "text": [
      "download: s3://asu-fox-hackathon-training/10031.tar.gz to data/10031.tar.gz\n"
     ]
    }
   ],
   "source": [
    "!aws s3 cp s3://asu-fox-hackathon-training/10031.tar.gz data/10031.tar.gz"
   ]
  },
  {
   "cell_type": "code",
   "execution_count": 23,
   "metadata": {},
   "outputs": [
    {
     "name": "stdout",
     "output_type": "stream",
     "text": [
      "download: s3://asu-fox-hackathon-training/10032.tar.gz to data/10032.tar.gz\n"
     ]
    }
   ],
   "source": [
    "!aws s3 cp s3://asu-fox-hackathon-training/10032.tar.gz data/10032.tar.gz"
   ]
  },
  {
   "cell_type": "code",
   "execution_count": 24,
   "metadata": {},
   "outputs": [
    {
     "name": "stdout",
     "output_type": "stream",
     "text": [
      "fatal error: An error occurred (404) when calling the HeadObject operation: Key \"10033.tar.gz\" does not exist\r\n"
     ]
    }
   ],
   "source": [
    "!aws s3 cp s3://asu-fox-hackathon-training/10033.tar.gz data/10033.tar.gz"
   ]
  },
  {
   "cell_type": "code",
   "execution_count": 25,
   "metadata": {},
   "outputs": [
    {
     "name": "stdout",
     "output_type": "stream",
     "text": [
      "download: s3://asu-fox-hackathon-training/10034.tar.gz to data/10034.tar.gz\n"
     ]
    }
   ],
   "source": [
    "!aws s3 cp s3://asu-fox-hackathon-training/10034.tar.gz data/10034.tar.gz"
   ]
  },
  {
   "cell_type": "code",
   "execution_count": 26,
   "metadata": {},
   "outputs": [
    {
     "name": "stdout",
     "output_type": "stream",
     "text": [
      "fatal error: An error occurred (404) when calling the HeadObject operation: Key \"10033.tar.gz\" does not exist\r\n"
     ]
    }
   ],
   "source": [
    "!aws s3 cp s3://asu-fox-hackathon-training/10033.tar.gz data/10033.tar.gz"
   ]
  },
  {
   "cell_type": "code",
   "execution_count": 27,
   "metadata": {},
   "outputs": [
    {
     "name": "stdout",
     "output_type": "stream",
     "text": [
      "download: s3://asu-fox-hackathon-training/10033.tar.gz to data/10033.tar.gz\n"
     ]
    }
   ],
   "source": [
    "!aws s3 cp s3://asu-fox-hackathon-training/10033.tar.gz data/10033.tar.gz"
   ]
  },
  {
   "cell_type": "code",
   "execution_count": 1,
   "metadata": {},
   "outputs": [
    {
     "name": "stdout",
     "output_type": "stream",
     "text": [
      "\r\n",
      "The user-provided path LeNet_clean.py does not exist.\r\n"
     ]
    }
   ],
   "source": [
    "!aws s3 cp LeNet_clean.py s3://asu-fox-hackathon/team10/"
   ]
  },
  {
   "cell_type": "code",
   "execution_count": 2,
   "metadata": {},
   "outputs": [
    {
     "name": "stdout",
     "output_type": "stream",
     "text": [
      "/bin/sh: LeNet_clean.py: command not found\r\n"
     ]
    }
   ],
   "source": [
    "!LeNet_clean.py s3://asu-fox-hackathon/team10/"
   ]
  },
  {
   "cell_type": "code",
   "execution_count": 3,
   "metadata": {},
   "outputs": [
    {
     "name": "stdout",
     "output_type": "stream",
     "text": [
      "/bin/sh: /LeNet_clean.py: No such file or directory\r\n"
     ]
    }
   ],
   "source": [
    "!/LeNet_clean.py s3://asu-fox-hackathon/team10/"
   ]
  },
  {
   "cell_type": "code",
   "execution_count": 4,
   "metadata": {},
   "outputs": [
    {
     "name": "stdout",
     "output_type": "stream",
     "text": [
      "upload: ./LeNet_clean.py to s3://asu-fox-hackathon/team10/LeNet_clean.py\r\n"
     ]
    }
   ],
   "source": [
    "!touch LeNet_clean.py; aws s3 cp LeNet_clean.py s3://asu-fox-hackathon/team10/"
   ]
  },
  {
   "cell_type": "code",
   "execution_count": 5,
   "metadata": {},
   "outputs": [
    {
     "name": "stdout",
     "output_type": "stream",
     "text": [
      "2019-10-21 21:53:23          0 \r\n",
      "2019-10-27 18:31:28          0 LeNet_clean.py\r\n",
      "2019-10-26 18:24:49          0 test.txt\r\n"
     ]
    }
   ],
   "source": [
    "!aws s3 ls s3://asu-fox-hackathon/team10/"
   ]
  },
  {
   "cell_type": "code",
   "execution_count": 6,
   "metadata": {},
   "outputs": [
    {
     "name": "stdout",
     "output_type": "stream",
     "text": [
      "upload: ./model.json to s3://asu-fox-hackathon/team10/model.json\r\n"
     ]
    }
   ],
   "source": [
    "!touch model.json; aws s3 cp model.json s3://asu-fox-hackathon/team10/"
   ]
  },
  {
   "cell_type": "code",
   "execution_count": 7,
   "metadata": {},
   "outputs": [
    {
     "name": "stdout",
     "output_type": "stream",
     "text": [
      "upload: ./model.h5 to s3://asu-fox-hackathon/team10/model.h5\r\n"
     ]
    }
   ],
   "source": [
    "!touch model.h5; aws s3 cp model.h5 s3://asu-fox-hackathon/team10/"
   ]
  },
  {
   "cell_type": "code",
   "execution_count": 8,
   "metadata": {},
   "outputs": [
    {
     "name": "stdout",
     "output_type": "stream",
     "text": [
      "2019-10-21 21:53:23          0 \n",
      "2019-10-27 18:31:28          0 LeNet_clean.py\n",
      "2019-10-27 18:32:55          0 model.h5\n",
      "2019-10-27 18:32:45          0 model.json\n",
      "2019-10-26 18:24:49          0 test.txt\n"
     ]
    }
   ],
   "source": [
    "!aws s3 ls s3://asu-fox-hackathon/team10/"
   ]
  },
  {
   "cell_type": "code",
   "execution_count": 9,
   "metadata": {},
   "outputs": [
    {
     "name": "stdout",
     "output_type": "stream",
     "text": [
      "upload: ./Jupyter_train_model.ipynb to s3://asu-fox-hackathon/team10/Jupyter_train_model.ipynb\r\n"
     ]
    }
   ],
   "source": [
    "!touch Jupyter_train_model.ipynb; aws s3 cp Jupyter_train_model.ipynb s3://asu-fox-hackathon/team10/"
   ]
  },
  {
   "cell_type": "code",
   "execution_count": 10,
   "metadata": {},
   "outputs": [
    {
     "name": "stdout",
     "output_type": "stream",
     "text": [
      "2019-10-21 21:53:23          0 \r\n",
      "2019-10-27 18:35:58          0 Jupyter_train_model.ipynb\r\n",
      "2019-10-27 18:31:28          0 LeNet_clean.py\r\n",
      "2019-10-27 18:32:55          0 model.h5\r\n",
      "2019-10-27 18:32:45          0 model.json\r\n",
      "2019-10-26 18:24:49          0 test.txt\r\n"
     ]
    }
   ],
   "source": [
    "!aws s3 ls s3://asu-fox-hackathon/team10/"
   ]
  },
  {
   "cell_type": "code",
   "execution_count": 11,
   "metadata": {},
   "outputs": [
    {
     "name": "stdout",
     "output_type": "stream",
     "text": [
      "/bin/sh: s3://asu-fox-hackathon-testing: No such file or directory\r\n"
     ]
    }
   ],
   "source": [
    "!s3://asu-fox-hackathon-testing"
   ]
  },
  {
   "cell_type": "code",
   "execution_count": 12,
   "metadata": {},
   "outputs": [
    {
     "name": "stdout",
     "output_type": "stream",
     "text": [
      "                           PRE 10028/\r\n",
      "                           PRE 10030/\r\n",
      "2019-10-27 17:11:26 2911508480 10028.tar\r\n",
      "2019-10-27 17:12:15 2720696320 10030.tar\r\n",
      "2019-10-25 06:22:46    3779246 cross_half_court_test_data.csv\r\n",
      "2019-10-25 06:22:44    2223355 crowd_test_data.csv\r\n",
      "2019-10-25 06:22:43    1304945 dunk_layup_test_data.csv\r\n",
      "2019-10-25 06:22:45    3030279 free_throw_test_data.csv\r\n",
      "2019-10-25 06:22:40     238016 injury_test_data.csv\r\n",
      "2019-10-25 06:22:40   33373676 isolation_test_data.csv\r\n",
      "2019-10-25 06:22:44     125981 jumpball_test_data.csv\r\n",
      "2019-10-25 06:22:45     519199 jumpshot_test_data.csv\r\n",
      "2019-10-25 06:22:49    9867623 replay_test_data.csv\r\n",
      "2019-10-25 06:22:47    3391749 sideline_test_data.csv\r\n",
      "2019-10-25 06:22:46    1062681 three_point_test_data.csv\r\n"
     ]
    }
   ],
   "source": [
    "!aws s3 ls s3://asu-fox-hackathon-testing"
   ]
  },
  {
   "cell_type": "code",
   "execution_count": 13,
   "metadata": {},
   "outputs": [
    {
     "name": "stdout",
     "output_type": "stream",
     "text": [
      "usage: aws [options] <command> <subcommand> [<subcommand> ...] [parameters]\r\n",
      "To see help text, you can run:\r\n",
      "\r\n",
      "  aws help\r\n",
      "  aws <command> help\r\n",
      "  aws <command> <subcommand> help\r\n",
      "aws: error: the following arguments are required: paths\r\n"
     ]
    }
   ],
   "source": [
    "!aws s3 cp s3://asu-fox-hackathon-training/dunk_layup_test_data.csv"
   ]
  },
  {
   "cell_type": "code",
   "execution_count": 14,
   "metadata": {},
   "outputs": [],
   "source": [
    "!aws s3 cp --quiet s3://asu-fox-hackathon-training/dunk_layup_test_data.csv data/dunk_layup_test_data.csv"
   ]
  },
  {
   "cell_type": "code",
   "execution_count": 15,
   "metadata": {},
   "outputs": [
    {
     "name": "stdout",
     "output_type": "stream",
     "text": [
      "usage: aws [options] <command> <subcommand> [<subcommand> ...] [parameters]\r\n",
      "To see help text, you can run:\r\n",
      "\r\n",
      "  aws help\r\n",
      "  aws <command> help\r\n",
      "  aws <command> <subcommand> help\r\n",
      "aws: error: the following arguments are required: paths\r\n"
     ]
    }
   ],
   "source": [
    "!aws s3 cp s3://asu-fox-hackathon-training/dunk_layup_test_data.csv"
   ]
  },
  {
   "cell_type": "code",
   "execution_count": 16,
   "metadata": {},
   "outputs": [
    {
     "name": "stdout",
     "output_type": "stream",
     "text": [
      "usage: aws [options] <command> <subcommand> [<subcommand> ...] [parameters]\r\n",
      "To see help text, you can run:\r\n",
      "\r\n",
      "  aws help\r\n",
      "  aws <command> help\r\n",
      "  aws <command> <subcommand> help\r\n",
      "aws: error: the following arguments are required: paths\r\n"
     ]
    }
   ],
   "source": [
    "!aws s3 cp s3://asu-fox-hackathon-training/dunk_layup_test_data.csv/dunk_layup_test_data.csv"
   ]
  },
  {
   "cell_type": "code",
   "execution_count": 23,
   "metadata": {},
   "outputs": [
    {
     "name": "stdout",
     "output_type": "stream",
     "text": [
      "fatal error: An error occurred (404) when calling the HeadObject operation: Key \"10028.tar.gz\" does not exist\r\n"
     ]
    }
   ],
   "source": [
    "!aws s3 cp s3://asu-fox-hackathon-testing/10028.tar.gz data/10028.tar"
   ]
  },
  {
   "cell_type": "code",
   "execution_count": 24,
   "metadata": {},
   "outputs": [
    {
     "name": "stdout",
     "output_type": "stream",
     "text": [
      "fatal error: An error occurred (404) when calling the HeadObject operation: Key \"10030.tar.gz\" does not exist\r\n"
     ]
    }
   ],
   "source": [
    "!aws s3 cp s3://asu-fox-hackathon-testing/10030.tar.gz data/10030.tar"
   ]
  },
  {
   "cell_type": "code",
   "execution_count": 26,
   "metadata": {},
   "outputs": [
    {
     "name": "stdout",
     "output_type": "stream",
     "text": [
      "download: s3://asu-fox-hackathon-testing/10030.tar to data/10030.tar\n"
     ]
    }
   ],
   "source": [
    "!aws s3 cp s3://asu-fox-hackathon-testing/10030.tar data/10030.tar"
   ]
  },
  {
   "cell_type": "code",
   "execution_count": 27,
   "metadata": {},
   "outputs": [
    {
     "name": "stdout",
     "output_type": "stream",
     "text": [
      "download: s3://asu-fox-hackathon-testing/10028.tar to data/10028.tar\n"
     ]
    }
   ],
   "source": [
    "!aws s3 cp s3://asu-fox-hackathon-testing/10028.tar data/10028.tar"
   ]
  },
  {
   "cell_type": "code",
   "execution_count": 28,
   "metadata": {},
   "outputs": [
    {
     "name": "stdout",
     "output_type": "stream",
     "text": [
      "download: s3://asu-fox-hackathon-testing/10030.tar to data/10030.tar\n"
     ]
    }
   ],
   "source": [
    "!aws s3 cp s3://asu-fox-hackathon-testing/10030.tar data/10030.tar"
   ]
  },
  {
   "cell_type": "code",
   "execution_count": 29,
   "metadata": {},
   "outputs": [
    {
     "name": "stdout",
     "output_type": "stream",
     "text": [
      "download: s3://asu-fox-hackathon-testing/10030.tar to data/10030.tar.gz\n"
     ]
    }
   ],
   "source": [
    "!aws s3 cp s3://asu-fox-hackathon-testing/10030.tar data/10030.tar.gz"
   ]
  },
  {
   "cell_type": "code",
   "execution_count": 30,
   "metadata": {},
   "outputs": [
    {
     "name": "stdout",
     "output_type": "stream",
     "text": [
      "/home/ec2-user/SageMaker/Old_attempts\r\n"
     ]
    }
   ],
   "source": [
    "!pwd"
   ]
  },
  {
   "cell_type": "code",
   "execution_count": 39,
   "metadata": {},
   "outputs": [],
   "source": [
    "!aws s3 cp --quiet s3://asu-fox-hackathon-training/dunk_layup_test_data.csv data/dunk_layup_test_data.csv"
   ]
  },
  {
   "cell_type": "code",
   "execution_count": 40,
   "metadata": {},
   "outputs": [],
   "source": [
    "!aws s3 cp --quiet s3://asu-fox-hackathon-training/dunk_layup_test_data.csv data/dunk_layup_test_data.csv"
   ]
  },
  {
   "cell_type": "code",
   "execution_count": 43,
   "metadata": {},
   "outputs": [
    {
     "name": "stdout",
     "output_type": "stream",
     "text": [
      "download: s3://asu-fox-hackathon-testing/dunk_layup_test_data.csv to data/dunk_layup_test_data.csv\n"
     ]
    }
   ],
   "source": [
    "!aws s3 cp s3://asu-fox-hackathon-testing/dunk_layup_test_data.csv data/dunk_layup_test_data.csv"
   ]
  },
  {
   "cell_type": "code",
   "execution_count": null,
   "metadata": {},
   "outputs": [],
   "source": []
  }
 ],
 "metadata": {
  "kernelspec": {
   "display_name": "conda_python3",
   "language": "python",
   "name": "conda_python3"
  },
  "language_info": {
   "codemirror_mode": {
    "name": "ipython",
    "version": 3
   },
   "file_extension": ".py",
   "mimetype": "text/x-python",
   "name": "python",
   "nbconvert_exporter": "python",
   "pygments_lexer": "ipython3",
   "version": "3.6.5"
  }
 },
 "nbformat": 4,
 "nbformat_minor": 2
}
