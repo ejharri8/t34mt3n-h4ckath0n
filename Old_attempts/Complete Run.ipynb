{
 "cells": [
  {
   "cell_type": "code",
   "execution_count": 1,
   "metadata": {},
   "outputs": [
    {
     "name": "stdout",
     "output_type": "stream",
     "text": [
      "2019-10-21 21:53:23          0 \r\n",
      "2019-10-26 17:24:02          0 test.txt\r\n"
     ]
    }
   ],
   "source": [
    "!aws s3 ls s3://asu-fox-hackathon/team10/"
   ]
  },
  {
   "cell_type": "code",
   "execution_count": 2,
   "metadata": {},
   "outputs": [
    {
     "name": "stdout",
     "output_type": "stream",
     "text": [
      "upload: ./test.txt to s3://asu-fox-hackathon/team10/test.txt\r\n"
     ]
    }
   ],
   "source": [
    "!touch test.txt; aws s3 cp test.txt s3://asu-fox-hackathon/team10/"
   ]
  },
  {
   "cell_type": "code",
   "execution_count": 3,
   "metadata": {},
   "outputs": [
    {
     "name": "stdout",
     "output_type": "stream",
     "text": [
      "2019-10-21 21:53:23          0 \r\n",
      "2019-10-26 17:46:18          0 test.txt\r\n"
     ]
    }
   ],
   "source": [
    "!aws s3 ls s3://asu-fox-hackathon/team10/"
   ]
  },
  {
   "cell_type": "code",
   "execution_count": 4,
   "metadata": {},
   "outputs": [],
   "source": [
    "!mkdir -p data"
   ]
  },
  {
   "cell_type": "code",
   "execution_count": null,
   "metadata": {},
   "outputs": [],
   "source": [
    "!aws s3 cp --recursive --quiet s3://asu-fox-hackathon-training/10031 data/10031"
   ]
  },
  {
   "cell_type": "code",
   "execution_count": null,
   "metadata": {},
   "outputs": [],
   "source": [
    "!aws s3 cp --recursive --quiet s3://asu-fox-hackathon-training/10032 data/10032"
   ]
  },
  {
   "cell_type": "code",
   "execution_count": null,
   "metadata": {},
   "outputs": [],
   "source": [
    "!aws s3 cp --recursive --quiet s3://asu-fox-hackathon-training/10033 data/10033"
   ]
  },
  {
   "cell_type": "code",
   "execution_count": null,
   "metadata": {},
   "outputs": [],
   "source": [
    "!aws s3 cp --recursive --quiet s3://asu-fox-hackathon-training/10034 data/10034"
   ]
  },
  {
   "cell_type": "code",
   "execution_count": 10,
   "metadata": {},
   "outputs": [],
   "source": [
    "!aws s3 cp --quiet s3://asu-fox-hackathon-training/cross_half_court_training_data.csv data/cross_half_court_training_data.csv"
   ]
  },
  {
   "cell_type": "code",
   "execution_count": 11,
   "metadata": {},
   "outputs": [],
   "source": [
    "!aws s3 cp --quiet s3://asu-fox-hackathon-training/crowd_training_data.csv data/crowd_training_data.csv"
   ]
  },
  {
   "cell_type": "code",
   "execution_count": 12,
   "metadata": {},
   "outputs": [],
   "source": [
    "!aws s3 cp --quiet s3://asu-fox-hackathon-training/dunk_layup_training_data.csv data/dunk_layup_training_data.csv"
   ]
  },
  {
   "cell_type": "code",
   "execution_count": 13,
   "metadata": {},
   "outputs": [],
   "source": [
    "!aws s3 cp --quiet s3://asu-fox-hackathon-training/free_throw_training_data.csv data/free_throw_training_data.csv"
   ]
  },
  {
   "cell_type": "code",
   "execution_count": 14,
   "metadata": {},
   "outputs": [],
   "source": [
    "!aws s3 cp --quiet s3://asu-fox-hackathon-training/injury_training_data.csv data/injury_training_data.csv"
   ]
  },
  {
   "cell_type": "code",
   "execution_count": 15,
   "metadata": {},
   "outputs": [],
   "source": [
    "!aws s3 cp --quiet s3://asu-fox-hackathon-training/isolation_training_data.csv data/isolation_training_data.csv"
   ]
  },
  {
   "cell_type": "code",
   "execution_count": 16,
   "metadata": {},
   "outputs": [],
   "source": [
    "!aws s3 cp --quiet s3://asu-fox-hackathon-training/jumpball_training_data.csv data/jumpball_training_data.csv"
   ]
  },
  {
   "cell_type": "code",
   "execution_count": 17,
   "metadata": {},
   "outputs": [],
   "source": [
    "!aws s3 cp --quiet s3://asu-fox-hackathon-training/jumpshot_training_data.csv data/jumpshot_training_data.csv"
   ]
  },
  {
   "cell_type": "code",
   "execution_count": 18,
   "metadata": {},
   "outputs": [],
   "source": [
    "!aws s3 cp --quiet s3://asu-fox-hackathon-training/replay_training_data.csv data/replay_training_data.csv"
   ]
  },
  {
   "cell_type": "code",
   "execution_count": 19,
   "metadata": {},
   "outputs": [],
   "source": [
    "!aws s3 cp --quiet s3://asu-fox-hackathon-training/sideline_training_data.csv data/sideline_training_data.csv"
   ]
  },
  {
   "cell_type": "code",
   "execution_count": 20,
   "metadata": {},
   "outputs": [],
   "source": [
    "!aws s3 cp --quiet s3://asu-fox-hackathon-training/three_point_training_data.csv data/three_point_training_data.csv"
   ]
  },
  {
   "cell_type": "code",
   "execution_count": 21,
   "metadata": {},
   "outputs": [
    {
     "ename": "SyntaxError",
     "evalue": "invalid syntax (<ipython-input-21-45a84b22b143>, line 1)",
     "output_type": "error",
     "traceback": [
      "\u001b[0;36m  File \u001b[0;32m\"<ipython-input-21-45a84b22b143>\"\u001b[0;36m, line \u001b[0;32m1\u001b[0m\n\u001b[0;31m    aws s3 cp s3://asu-fox-hackathon-training/10031.tar.gz data/10031.tar.gz\u001b[0m\n\u001b[0m         ^\u001b[0m\n\u001b[0;31mSyntaxError\u001b[0m\u001b[0;31m:\u001b[0m invalid syntax\n"
     ]
    }
   ],
   "source": [
    "aws s3 cp s3://asu-fox-hackathon-training/10031.tar.gz data/10031.tar.gz"
   ]
  },
  {
   "cell_type": "code",
   "execution_count": 22,
   "metadata": {},
   "outputs": [
    {
     "name": "stdout",
     "output_type": "stream",
     "text": [
      "download: s3://asu-fox-hackathon-training/10031.tar.gz to data/10031.tar.gz\n"
     ]
    }
   ],
   "source": [
    "!aws s3 cp s3://asu-fox-hackathon-training/10031.tar.gz data/10031.tar.gz"
   ]
  },
  {
   "cell_type": "code",
   "execution_count": 23,
   "metadata": {},
   "outputs": [
    {
     "name": "stdout",
     "output_type": "stream",
     "text": [
      "download: s3://asu-fox-hackathon-training/10032.tar.gz to data/10032.tar.gz\n"
     ]
    }
   ],
   "source": [
    "!aws s3 cp s3://asu-fox-hackathon-training/10032.tar.gz data/10032.tar.gz"
   ]
  },
  {
   "cell_type": "code",
   "execution_count": 24,
   "metadata": {},
   "outputs": [
    {
     "name": "stdout",
     "output_type": "stream",
     "text": [
      "fatal error: An error occurred (404) when calling the HeadObject operation: Key \"10033.tar.gz\" does not exist\r\n"
     ]
    }
   ],
   "source": [
    "!aws s3 cp s3://asu-fox-hackathon-training/10033.tar.gz data/10033.tar.gz"
   ]
  },
  {
   "cell_type": "code",
   "execution_count": 25,
   "metadata": {},
   "outputs": [
    {
     "name": "stdout",
     "output_type": "stream",
     "text": [
      "download: s3://asu-fox-hackathon-training/10034.tar.gz to data/10034.tar.gz\n"
     ]
    }
   ],
   "source": [
    "!aws s3 cp s3://asu-fox-hackathon-training/10034.tar.gz data/10034.tar.gz"
   ]
  },
  {
   "cell_type": "code",
   "execution_count": 26,
   "metadata": {},
   "outputs": [
    {
     "name": "stdout",
     "output_type": "stream",
     "text": [
      "fatal error: An error occurred (404) when calling the HeadObject operation: Key \"10033.tar.gz\" does not exist\r\n"
     ]
    }
   ],
   "source": [
    "!aws s3 cp s3://asu-fox-hackathon-training/10033.tar.gz data/10033.tar.gz"
   ]
  },
  {
   "cell_type": "code",
   "execution_count": 27,
   "metadata": {},
   "outputs": [
    {
     "name": "stdout",
     "output_type": "stream",
     "text": [
      "download: s3://asu-fox-hackathon-training/10033.tar.gz to data/10033.tar.gz\n"
     ]
    }
   ],
   "source": [
    "!aws s3 cp s3://asu-fox-hackathon-training/10033.tar.gz data/10033.tar.gz"
   ]
  },
  {
   "cell_type": "code",
   "execution_count": null,
   "metadata": {},
   "outputs": [],
   "source": []
  }
 ],
 "metadata": {
  "kernelspec": {
   "display_name": "conda_python3",
   "language": "python",
   "name": "conda_python3"
  },
  "language_info": {
   "codemirror_mode": {
    "name": "ipython",
    "version": 3
   },
   "file_extension": ".py",
   "mimetype": "text/x-python",
   "name": "python",
   "nbconvert_exporter": "python",
   "pygments_lexer": "ipython3",
   "version": "3.6.5"
  }
 },
 "nbformat": 4,
 "nbformat_minor": 2
}
